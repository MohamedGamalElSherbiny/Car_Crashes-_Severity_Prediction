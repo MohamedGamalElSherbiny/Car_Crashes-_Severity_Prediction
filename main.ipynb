{
 "cells": [
  {
   "cell_type": "code",
   "execution_count": 1,
   "id": "b9eb1c3f",
   "metadata": {},
   "outputs": [],
   "source": [
    "import seaborn as sns\n",
    "import pandas as pd\n",
    "import matplotlib.pyplot as plt\n",
    "import numpy as np\n",
    "from datetime import datetime\n",
    "import xml.etree.ElementTree as et\n",
    "import os\n",
    "pd.set_option(\"display.max_columns\", None)"
   ]
  },
  {
   "cell_type": "code",
   "execution_count": 2,
   "id": "32cd53fc",
   "metadata": {},
   "outputs": [],
   "source": [
    "weather_condition_dict = {'Fair': 0,\n",
    " 'Partly Cloudy': 1,\n",
    " 'Overcast': 2,\n",
    " 'Clear': 3,\n",
    " 'Mostly Cloudy': 4,\n",
    " 'Cloudy': 5,\n",
    " 'Smoke': 6,\n",
    " 'Scattered Clouds': 7,\n",
    " 'Heavy Rain': 8,\n",
    " 'Light Rain': 9,\n",
    " 'Fair / Windy': 10,\n",
    " 'Rain': 11,\n",
    " 'Partly Cloudy / Windy': 12,\n",
    " 'Cloudy / Windy': 13,\n",
    " 'Mostly Cloudy / Windy': 14,\n",
    " 'Haze': 15,\n",
    " 'Shallow Fog': 16,\n",
    " 'Fog': 17,\n",
    " 'Rain / Windy': 18,\n",
    " 'Light Rain / Windy': 19,\n",
    " 'nan': 20,\n",
    " 'Mist': 21,\n",
    " 'Light Drizzle': 22,\n",
    " 'Patches of Fog': 23,\n",
    " 'Squalls': 24,\n",
    " 'Fog / Windy': 25,\n",
    " 'Light Thunderstorms and Rain': 26}"
   ]
  },
  {
   "cell_type": "code",
   "execution_count": 3,
   "id": "f12a0c4e",
   "metadata": {},
   "outputs": [],
   "source": [
    "train_df = pd.read_csv('train.csv')\n",
    "test_df = pd.read_csv('test.csv')\n",
    "xtree = et.parse('holidays.xml')\n",
    "weather_df = pd.read_csv('weather-sfcsv.csv')\n",
    "# weather_condition = weather_df['Weather_Condition'].unique()\n",
    "weather_condition_dict = dict(zip(weather_condition, range(len(weather_condition))))\n",
    "weather_df.replace({'Weather_Condition': weather_condition_dict}, inplace=True)"
   ]
  },
  {
   "cell_type": "code",
   "execution_count": 4,
   "id": "833a4b6e",
   "metadata": {},
   "outputs": [],
   "source": [
    "# from sklearn.preprocessing import PolynomialFeatures\n",
    "# poly_feat = PolynomialFeatures(degree = 2, include_bias = False)\n",
    "# for df in [train_df, test_df] :\n",
    "#     location_data = df[['Lng', 'Lat']]\n",
    "#     train_poly = poly_feat.fit_transform(location_data)\n",
    "#     df['new_Lng'] = train_poly[:, 2]\n",
    "#     df['Lng_Lat'] = train_poly[:, 3]\n",
    "#     df['new_Lat'] = train_poly[:, 4]\n",
    "# test_df.head()"
   ]
  },
  {
   "cell_type": "code",
   "execution_count": 5,
   "id": "89c1baae",
   "metadata": {},
   "outputs": [],
   "source": [
    "def extract_date(df, column_name, date_format):\n",
    "    df[column_name] = pd.to_datetime(df[column_name], format=date_format)\n",
    "    df['Year'] = pd.DatetimeIndex(df[column_name]).year\n",
    "    df['Month'] = pd.DatetimeIndex(df[column_name]).month\n",
    "    df['Day'] = pd.DatetimeIndex(df[column_name]).day\n",
    "    if len(date_format) > 8:\n",
    "        df['Hour'] = pd.DatetimeIndex(df[column_name]).hour\n",
    "    df.drop([column_name], axis= 1, inplace=True)\n",
    "    \n",
    "def normalize_data(df, *args):\n",
    "    for arg in args:\n",
    "        df[arg] = (df[arg] - df[arg].mean())/df[arg].std()\n",
    "        \n",
    "def merge_data(data):\n",
    "    extract_date(data, 'timestamp', '%Y-%m-%d %H:%M:%S')\n",
    "    data = data.drop_duplicates(subset=data.keys(), keep='last')\n",
    "    df = pd.merge(data, weather_df_wd,  how='left', left_on=['Year', 'Day', 'Month', 'Hour'], right_on = ['Year', 'Day', 'Month', 'Hour'])\n",
    "    df.dropna(axis=0, subset=['Weather_Condition', 'Temperature(F)', 'Humidity(%)', 'Visibility(mi)'], inplace=True)\n",
    "    df.fillna(value=df.mean(), inplace=True)\n",
    "    df.replace({True: 1, False: 0, 'Yes': 1, 'No': 0, 'R': 1, 'L': 0}, inplace=True)\n",
    "#     df['Weather_Condition'].replace(weather_condition_dict, inplace=True)\n",
    "    normalize_data(df, 'Lat', 'Lng', 'Wind_Speed(mph)', 'Wind_Chill(F)', 'Temperature(F)', 'Visibility(mi)', 'Year')\n",
    "    df['Humidity'] = df['Humidity(%)'] / 100\n",
    "    df = pd.merge(df, holiday_df,  how='left', left_on=['Year', 'Day', 'Month'], right_on = ['Year', 'Day', 'Month'])\n",
    "    df.fillna(0, inplace=True)\n",
    "    return df"
   ]
  },
  {
   "cell_type": "code",
   "execution_count": 6,
   "id": "03acfe84",
   "metadata": {},
   "outputs": [],
   "source": [
    "xroot = xtree.getroot()\n",
    "df_cols = ['date', 'description']\n",
    "rows = []\n",
    "for node in xroot:\n",
    "    s_name = node.find(\"date\").text if node is not None else None\n",
    "    s_mail = node.find(\"description\").text if node is not None else None\n",
    "    rows.append({\"date\": s_name, \"description\": s_mail})\n",
    "holiday_df = pd.DataFrame(rows, columns = df_cols)\n",
    "extract_date(holiday_df, 'date', '%Y-%m-%d')\n",
    "holiday_df[\"description\"] = 1\n",
    "weather_df_wd = weather_df.drop_duplicates(subset=['Year', 'Day', 'Month', 'Hour'], keep='last')"
   ]
  },
  {
   "cell_type": "code",
   "execution_count": 7,
   "id": "0e60ef42",
   "metadata": {},
   "outputs": [
    {
     "name": "stdout",
     "output_type": "stream",
     "text": [
      "Training Data info:\n",
      "<class 'pandas.core.frame.DataFrame'>\n",
      "RangeIndex: 6407 entries, 0 to 6406\n",
      "Data columns (total 16 columns):\n",
      " #   Column        Non-Null Count  Dtype  \n",
      "---  ------        --------------  -----  \n",
      " 0   ID            6407 non-null   int64  \n",
      " 1   Lat           6407 non-null   float64\n",
      " 2   Lng           6407 non-null   float64\n",
      " 3   Bump          6407 non-null   bool   \n",
      " 4   Distance(mi)  6407 non-null   float64\n",
      " 5   Crossing      6407 non-null   bool   \n",
      " 6   Give_Way      6407 non-null   bool   \n",
      " 7   Junction      6407 non-null   bool   \n",
      " 8   No_Exit       6407 non-null   bool   \n",
      " 9   Railway       6407 non-null   bool   \n",
      " 10  Roundabout    6407 non-null   bool   \n",
      " 11  Stop          6407 non-null   bool   \n",
      " 12  Amenity       6407 non-null   bool   \n",
      " 13  Side          6407 non-null   object \n",
      " 14  Severity      6407 non-null   int64  \n",
      " 15  timestamp     6407 non-null   object \n",
      "dtypes: bool(9), float64(3), int64(2), object(2)\n",
      "memory usage: 406.8+ KB\n",
      "None\n",
      "   ID        Lat         Lng   Bump  Distance(mi)  Crossing  Give_Way  \\\n",
      "0   0  37.762150 -122.405660  False         0.044     False     False   \n",
      "1   1  37.719157 -122.448254  False         0.000     False     False   \n",
      "2   2  37.808498 -122.366852  False         0.000     False     False   \n",
      "3   3  37.785930 -122.391080  False         0.009     False     False   \n",
      "4   4  37.719141 -122.448457  False         0.000     False     False   \n",
      "\n",
      "   Junction  No_Exit  Railway  Roundabout   Stop  Amenity Side  Severity  \\\n",
      "0     False    False    False       False  False     True    R         2   \n",
      "1     False    False    False       False  False    False    R         2   \n",
      "2     False    False    False       False   True    False    R         3   \n",
      "3      True    False    False       False  False    False    R         1   \n",
      "4     False    False    False       False  False    False    R         2   \n",
      "\n",
      "             timestamp  \n",
      "0  2016-03-25 15:13:02  \n",
      "1  2020-05-05 19:23:00  \n",
      "2  2016-09-16 19:57:16  \n",
      "3  2020-03-29 19:48:43  \n",
      "4  2019-10-09 08:47:00  \n",
      "\n",
      "Weather Data info:\n",
      "<class 'pandas.core.frame.DataFrame'>\n",
      "RangeIndex: 6901 entries, 0 to 6900\n",
      "Data columns (total 12 columns):\n",
      " #   Column             Non-Null Count  Dtype  \n",
      "---  ------             --------------  -----  \n",
      " 0   Year               6901 non-null   int64  \n",
      " 1   Day                6901 non-null   int64  \n",
      " 2   Month              6901 non-null   int64  \n",
      " 3   Hour               6901 non-null   int64  \n",
      " 4   Weather_Condition  6900 non-null   object \n",
      " 5   Wind_Chill(F)      3292 non-null   float64\n",
      " 6   Precipitation(in)  3574 non-null   float64\n",
      " 7   Temperature(F)     6899 non-null   float64\n",
      " 8   Humidity(%)        6899 non-null   float64\n",
      " 9   Wind_Speed(mph)    6556 non-null   float64\n",
      " 10  Visibility(mi)     6900 non-null   float64\n",
      " 11  Selected           6901 non-null   object \n",
      "dtypes: float64(6), int64(4), object(2)\n",
      "memory usage: 647.1+ KB\n",
      "None\n",
      "   Year  Day  Month  Hour Weather_Condition  Wind_Chill(F)  Precipitation(in)  \\\n",
      "0  2020   27      7    18              Fair           64.0                0.0   \n",
      "1  2017   30      9    17     Partly Cloudy            NaN                NaN   \n",
      "2  2017   27      6     5          Overcast            NaN                NaN   \n",
      "3  2016    7      9     9             Clear            NaN                NaN   \n",
      "4  2019   19     10     2              Fair           52.0                0.0   \n",
      "\n",
      "   Temperature(F)  Humidity(%)  Wind_Speed(mph)  Visibility(mi) Selected  \n",
      "0            64.0         70.0             20.0            10.0       No  \n",
      "1            71.1         57.0              9.2            10.0       No  \n",
      "2            57.9         87.0             15.0             9.0       No  \n",
      "3            66.9         73.0              4.6            10.0       No  \n",
      "4            52.0         89.0              0.0             9.0       No  \n",
      "\n",
      "Holiday Data info:\n",
      "<class 'pandas.core.frame.DataFrame'>\n",
      "RangeIndex: 90 entries, 0 to 89\n",
      "Data columns (total 4 columns):\n",
      " #   Column       Non-Null Count  Dtype\n",
      "---  ------       --------------  -----\n",
      " 0   description  90 non-null     int64\n",
      " 1   Year         90 non-null     int64\n",
      " 2   Month        90 non-null     int64\n",
      " 3   Day          90 non-null     int64\n",
      "dtypes: int64(4)\n",
      "memory usage: 2.9 KB\n",
      "None\n",
      "   description  Year  Month  Day\n",
      "0            1  2012      1    2\n",
      "1            1  2012      1   16\n",
      "2            1  2012      2   20\n",
      "3            1  2012      5   28\n",
      "4            1  2012      7    4\n"
     ]
    }
   ],
   "source": [
    "print(\"Training Data info:\")\n",
    "print(train_df.info())\n",
    "print(train_df.head())\n",
    "print(\"\\nWeather Data info:\")\n",
    "print(weather_df.info())\n",
    "print(weather_df.head())\n",
    "print(\"\\nHoliday Data info:\")\n",
    "print(holiday_df.info())\n",
    "print(holiday_df.head())"
   ]
  },
  {
   "cell_type": "code",
   "execution_count": 8,
   "id": "1ecef7c0",
   "metadata": {},
   "outputs": [],
   "source": [
    "# df = merge_data(train_df)"
   ]
  },
  {
   "cell_type": "code",
   "execution_count": 9,
   "id": "7a0173d7",
   "metadata": {},
   "outputs": [],
   "source": [
    "# df.head()"
   ]
  },
  {
   "cell_type": "code",
   "execution_count": 10,
   "id": "7fdb2d98",
   "metadata": {},
   "outputs": [
    {
     "name": "stderr",
     "output_type": "stream",
     "text": [
      "<ipython-input-5-1eaeaf2dc095>:19: FutureWarning: Dropping of nuisance columns in DataFrame reductions (with 'numeric_only=None') is deprecated; in a future version this will raise TypeError.  Select only valid columns before calling the reduction.\n",
      "  df.fillna(value=df.mean(), inplace=True)\n",
      "/Users/mohamedgamal/opt/anaconda3/lib/python3.8/site-packages/pandas/core/reshape/merge.py:1200: UserWarning: You are merging on int and float columns where the float values are not equal to their int representation\n",
      "  warnings.warn(\n"
     ]
    }
   ],
   "source": [
    "train_df, test_df = merge_data(train_df), merge_data(test_df)\n",
    "from sklearn.preprocessing import LabelEncoder\n",
    "label_encoder = LabelEncoder()\n",
    "for df in [train_df, test_df] :\n",
    "    df['Weather_Condition'] = label_encoder.fit_transform(df['Weather_Condition'])"
   ]
  },
  {
   "cell_type": "code",
   "execution_count": 12,
   "id": "e14e75f2",
   "metadata": {},
   "outputs": [
    {
     "ename": "KeyError",
     "evalue": "\"['Severity'] not found in axis\"",
     "output_type": "error",
     "traceback": [
      "\u001b[0;31m---------------------------------------------------------------------------\u001b[0m",
      "\u001b[0;31mKeyError\u001b[0m                                  Traceback (most recent call last)",
      "\u001b[0;32m<ipython-input-12-68d09df01b85>\u001b[0m in \u001b[0;36m<module>\u001b[0;34m\u001b[0m\n\u001b[1;32m      5\u001b[0m                    \u001b[0;34m'No_Exit'\u001b[0m\u001b[0;34m,\u001b[0m \u001b[0;34m'Wind_Speed(mph)'\u001b[0m\u001b[0;34m,\u001b[0m \u001b[0;34m'Temperature(F)'\u001b[0m\u001b[0;34m,\u001b[0m\u001b[0;34m\u001b[0m\u001b[0;34m\u001b[0m\u001b[0m\n\u001b[1;32m      6\u001b[0m                    'Visibility(mi)', 'Day', 'Severity']\n\u001b[0;32m----> 7\u001b[0;31m \u001b[0mX_train\u001b[0m \u001b[0;34m=\u001b[0m \u001b[0mtrain_df\u001b[0m\u001b[0;34m.\u001b[0m\u001b[0mdrop\u001b[0m\u001b[0;34m(\u001b[0m\u001b[0mcolumns\u001b[0m\u001b[0;34m=\u001b[0m\u001b[0mcolumns_removed\u001b[0m\u001b[0;34m)\u001b[0m\u001b[0;34m\u001b[0m\u001b[0;34m\u001b[0m\u001b[0m\n\u001b[0m\u001b[1;32m      8\u001b[0m \u001b[0my_train\u001b[0m \u001b[0;34m=\u001b[0m \u001b[0mtrain_df\u001b[0m\u001b[0;34m[\u001b[0m\u001b[0;34m'Severity'\u001b[0m\u001b[0;34m]\u001b[0m\u001b[0;34m\u001b[0m\u001b[0;34m\u001b[0m\u001b[0m\n\u001b[1;32m      9\u001b[0m \u001b[0;34m\u001b[0m\u001b[0m\n",
      "\u001b[0;32m~/opt/anaconda3/lib/python3.8/site-packages/pandas/util/_decorators.py\u001b[0m in \u001b[0;36mwrapper\u001b[0;34m(*args, **kwargs)\u001b[0m\n\u001b[1;32m    309\u001b[0m                     \u001b[0mstacklevel\u001b[0m\u001b[0;34m=\u001b[0m\u001b[0mstacklevel\u001b[0m\u001b[0;34m,\u001b[0m\u001b[0;34m\u001b[0m\u001b[0;34m\u001b[0m\u001b[0m\n\u001b[1;32m    310\u001b[0m                 )\n\u001b[0;32m--> 311\u001b[0;31m             \u001b[0;32mreturn\u001b[0m \u001b[0mfunc\u001b[0m\u001b[0;34m(\u001b[0m\u001b[0;34m*\u001b[0m\u001b[0margs\u001b[0m\u001b[0;34m,\u001b[0m \u001b[0;34m**\u001b[0m\u001b[0mkwargs\u001b[0m\u001b[0;34m)\u001b[0m\u001b[0;34m\u001b[0m\u001b[0;34m\u001b[0m\u001b[0m\n\u001b[0m\u001b[1;32m    312\u001b[0m \u001b[0;34m\u001b[0m\u001b[0m\n\u001b[1;32m    313\u001b[0m         \u001b[0;32mreturn\u001b[0m \u001b[0mwrapper\u001b[0m\u001b[0;34m\u001b[0m\u001b[0;34m\u001b[0m\u001b[0m\n",
      "\u001b[0;32m~/opt/anaconda3/lib/python3.8/site-packages/pandas/core/frame.py\u001b[0m in \u001b[0;36mdrop\u001b[0;34m(self, labels, axis, index, columns, level, inplace, errors)\u001b[0m\n\u001b[1;32m   4899\u001b[0m                 \u001b[0mweight\u001b[0m  \u001b[0;36m1.0\u001b[0m     \u001b[0;36m0.8\u001b[0m\u001b[0;34m\u001b[0m\u001b[0;34m\u001b[0m\u001b[0m\n\u001b[1;32m   4900\u001b[0m         \"\"\"\n\u001b[0;32m-> 4901\u001b[0;31m         return super().drop(\n\u001b[0m\u001b[1;32m   4902\u001b[0m             \u001b[0mlabels\u001b[0m\u001b[0;34m=\u001b[0m\u001b[0mlabels\u001b[0m\u001b[0;34m,\u001b[0m\u001b[0;34m\u001b[0m\u001b[0;34m\u001b[0m\u001b[0m\n\u001b[1;32m   4903\u001b[0m             \u001b[0maxis\u001b[0m\u001b[0;34m=\u001b[0m\u001b[0maxis\u001b[0m\u001b[0;34m,\u001b[0m\u001b[0;34m\u001b[0m\u001b[0;34m\u001b[0m\u001b[0m\n",
      "\u001b[0;32m~/opt/anaconda3/lib/python3.8/site-packages/pandas/core/generic.py\u001b[0m in \u001b[0;36mdrop\u001b[0;34m(self, labels, axis, index, columns, level, inplace, errors)\u001b[0m\n\u001b[1;32m   4145\u001b[0m         \u001b[0;32mfor\u001b[0m \u001b[0maxis\u001b[0m\u001b[0;34m,\u001b[0m \u001b[0mlabels\u001b[0m \u001b[0;32min\u001b[0m \u001b[0maxes\u001b[0m\u001b[0;34m.\u001b[0m\u001b[0mitems\u001b[0m\u001b[0;34m(\u001b[0m\u001b[0;34m)\u001b[0m\u001b[0;34m:\u001b[0m\u001b[0;34m\u001b[0m\u001b[0;34m\u001b[0m\u001b[0m\n\u001b[1;32m   4146\u001b[0m             \u001b[0;32mif\u001b[0m \u001b[0mlabels\u001b[0m \u001b[0;32mis\u001b[0m \u001b[0;32mnot\u001b[0m \u001b[0;32mNone\u001b[0m\u001b[0;34m:\u001b[0m\u001b[0;34m\u001b[0m\u001b[0;34m\u001b[0m\u001b[0m\n\u001b[0;32m-> 4147\u001b[0;31m                 \u001b[0mobj\u001b[0m \u001b[0;34m=\u001b[0m \u001b[0mobj\u001b[0m\u001b[0;34m.\u001b[0m\u001b[0m_drop_axis\u001b[0m\u001b[0;34m(\u001b[0m\u001b[0mlabels\u001b[0m\u001b[0;34m,\u001b[0m \u001b[0maxis\u001b[0m\u001b[0;34m,\u001b[0m \u001b[0mlevel\u001b[0m\u001b[0;34m=\u001b[0m\u001b[0mlevel\u001b[0m\u001b[0;34m,\u001b[0m \u001b[0merrors\u001b[0m\u001b[0;34m=\u001b[0m\u001b[0merrors\u001b[0m\u001b[0;34m)\u001b[0m\u001b[0;34m\u001b[0m\u001b[0;34m\u001b[0m\u001b[0m\n\u001b[0m\u001b[1;32m   4148\u001b[0m \u001b[0;34m\u001b[0m\u001b[0m\n\u001b[1;32m   4149\u001b[0m         \u001b[0;32mif\u001b[0m \u001b[0minplace\u001b[0m\u001b[0;34m:\u001b[0m\u001b[0;34m\u001b[0m\u001b[0;34m\u001b[0m\u001b[0m\n",
      "\u001b[0;32m~/opt/anaconda3/lib/python3.8/site-packages/pandas/core/generic.py\u001b[0m in \u001b[0;36m_drop_axis\u001b[0;34m(self, labels, axis, level, errors)\u001b[0m\n\u001b[1;32m   4180\u001b[0m                 \u001b[0mnew_axis\u001b[0m \u001b[0;34m=\u001b[0m \u001b[0maxis\u001b[0m\u001b[0;34m.\u001b[0m\u001b[0mdrop\u001b[0m\u001b[0;34m(\u001b[0m\u001b[0mlabels\u001b[0m\u001b[0;34m,\u001b[0m \u001b[0mlevel\u001b[0m\u001b[0;34m=\u001b[0m\u001b[0mlevel\u001b[0m\u001b[0;34m,\u001b[0m \u001b[0merrors\u001b[0m\u001b[0;34m=\u001b[0m\u001b[0merrors\u001b[0m\u001b[0;34m)\u001b[0m\u001b[0;34m\u001b[0m\u001b[0;34m\u001b[0m\u001b[0m\n\u001b[1;32m   4181\u001b[0m             \u001b[0;32melse\u001b[0m\u001b[0;34m:\u001b[0m\u001b[0;34m\u001b[0m\u001b[0;34m\u001b[0m\u001b[0m\n\u001b[0;32m-> 4182\u001b[0;31m                 \u001b[0mnew_axis\u001b[0m \u001b[0;34m=\u001b[0m \u001b[0maxis\u001b[0m\u001b[0;34m.\u001b[0m\u001b[0mdrop\u001b[0m\u001b[0;34m(\u001b[0m\u001b[0mlabels\u001b[0m\u001b[0;34m,\u001b[0m \u001b[0merrors\u001b[0m\u001b[0;34m=\u001b[0m\u001b[0merrors\u001b[0m\u001b[0;34m)\u001b[0m\u001b[0;34m\u001b[0m\u001b[0;34m\u001b[0m\u001b[0m\n\u001b[0m\u001b[1;32m   4183\u001b[0m             \u001b[0mresult\u001b[0m \u001b[0;34m=\u001b[0m \u001b[0mself\u001b[0m\u001b[0;34m.\u001b[0m\u001b[0mreindex\u001b[0m\u001b[0;34m(\u001b[0m\u001b[0;34m**\u001b[0m\u001b[0;34m{\u001b[0m\u001b[0maxis_name\u001b[0m\u001b[0;34m:\u001b[0m \u001b[0mnew_axis\u001b[0m\u001b[0;34m}\u001b[0m\u001b[0;34m)\u001b[0m\u001b[0;34m\u001b[0m\u001b[0;34m\u001b[0m\u001b[0m\n\u001b[1;32m   4184\u001b[0m \u001b[0;34m\u001b[0m\u001b[0m\n",
      "\u001b[0;32m~/opt/anaconda3/lib/python3.8/site-packages/pandas/core/indexes/base.py\u001b[0m in \u001b[0;36mdrop\u001b[0;34m(self, labels, errors)\u001b[0m\n\u001b[1;32m   6016\u001b[0m         \u001b[0;32mif\u001b[0m \u001b[0mmask\u001b[0m\u001b[0;34m.\u001b[0m\u001b[0many\u001b[0m\u001b[0;34m(\u001b[0m\u001b[0;34m)\u001b[0m\u001b[0;34m:\u001b[0m\u001b[0;34m\u001b[0m\u001b[0;34m\u001b[0m\u001b[0m\n\u001b[1;32m   6017\u001b[0m             \u001b[0;32mif\u001b[0m \u001b[0merrors\u001b[0m \u001b[0;34m!=\u001b[0m \u001b[0;34m\"ignore\"\u001b[0m\u001b[0;34m:\u001b[0m\u001b[0;34m\u001b[0m\u001b[0;34m\u001b[0m\u001b[0m\n\u001b[0;32m-> 6018\u001b[0;31m                 \u001b[0;32mraise\u001b[0m \u001b[0mKeyError\u001b[0m\u001b[0;34m(\u001b[0m\u001b[0;34mf\"{labels[mask]} not found in axis\"\u001b[0m\u001b[0;34m)\u001b[0m\u001b[0;34m\u001b[0m\u001b[0;34m\u001b[0m\u001b[0m\n\u001b[0m\u001b[1;32m   6019\u001b[0m             \u001b[0mindexer\u001b[0m \u001b[0;34m=\u001b[0m \u001b[0mindexer\u001b[0m\u001b[0;34m[\u001b[0m\u001b[0;34m~\u001b[0m\u001b[0mmask\u001b[0m\u001b[0;34m]\u001b[0m\u001b[0;34m\u001b[0m\u001b[0;34m\u001b[0m\u001b[0m\n\u001b[1;32m   6020\u001b[0m         \u001b[0;32mreturn\u001b[0m \u001b[0mself\u001b[0m\u001b[0;34m.\u001b[0m\u001b[0mdelete\u001b[0m\u001b[0;34m(\u001b[0m\u001b[0mindexer\u001b[0m\u001b[0;34m)\u001b[0m\u001b[0;34m\u001b[0m\u001b[0;34m\u001b[0m\u001b[0m\n",
      "\u001b[0;31mKeyError\u001b[0m: \"['Severity'] not found in axis\""
     ]
    }
   ],
   "source": [
    "from sklearn.model_selection import train_test_split\n",
    "\n",
    "train_df, val_df = train_test_split(train_df, test_size=0.2, random_state=42)\n",
    "columns_removed = ['ID', 'Roundabout', 'Bump', 'Humidity(%)',\n",
    "                   'No_Exit', 'Wind_Speed(mph)', 'Temperature(F)',\n",
    "                   'Visibility(mi)', 'Day', 'Severity']\n",
    "X_train = train_df.drop(columns=columns_removed)\n",
    "y_train = train_df['Severity']\n",
    "\n",
    "X_val = val_df.drop(columns=columns_removed)\n",
    "y_val = val_df['Severity']"
   ]
  },
  {
   "cell_type": "code",
   "execution_count": null,
   "id": "8e078c82",
   "metadata": {},
   "outputs": [],
   "source": [
    "plt.figure(figsize=(20,10))\n",
    "plt.title('Data Correlation')\n",
    "sns.heatmap(X_train.corr(),annot= True,cmap='summer')"
   ]
  },
  {
   "cell_type": "code",
   "execution_count": null,
   "id": "8a941bf5",
   "metadata": {},
   "outputs": [],
   "source": [
    "from sklearn.ensemble import RandomForestClassifier\n",
    "\n",
    "# Create an instance of the classifier\n",
    "classifier = RandomForestClassifier(max_depth=2, random_state=0)\n",
    "\n",
    "# Train the classifier\n",
    "classifier = classifier.fit(X_train, y_train)"
   ]
  },
  {
   "cell_type": "code",
   "execution_count": null,
   "id": "c27f8c16",
   "metadata": {},
   "outputs": [],
   "source": [
    "print(\"The accuracy of the classifier on the validation set is \", (classifier.score(X_val, y_val)))\n",
    "print(\"The accuracy of the classifier on the training set is \", (classifier.score(X_train, y_train)))"
   ]
  },
  {
   "cell_type": "code",
   "execution_count": null,
   "id": "9773f4f0",
   "metadata": {},
   "outputs": [],
   "source": [
    "X_test = test_df\n",
    "\n",
    "# You should update/remove the next line once you change the features used for training\n",
    "columns_removed = ['ID', 'Roundabout', 'Bump', 'Humidity(%)',\n",
    "                   'No_Exit', 'Wind_Speed(mph)', 'Temperature(F)',\n",
    "                   'Visibility(mi)', 'Day']\n",
    "X_test = X_test.drop(columns=columns_removed)\n",
    "\n",
    "y_test_predicted = classifier.predict(X_test)\n",
    "\n",
    "test_df['Severity'] = y_test_predicted\n",
    "\n",
    "test_df.head()"
   ]
  },
  {
   "cell_type": "code",
   "execution_count": null,
   "id": "66d2768a",
   "metadata": {},
   "outputs": [],
   "source": [
    "test_df[['ID', 'Severity']].to_csv('submission.csv', index=False)"
   ]
  }
 ],
 "metadata": {
  "kernelspec": {
   "display_name": "Python 3 (ipykernel)",
   "language": "python",
   "name": "python3"
  },
  "language_info": {
   "codemirror_mode": {
    "name": "ipython",
    "version": 3
   },
   "file_extension": ".py",
   "mimetype": "text/x-python",
   "name": "python",
   "nbconvert_exporter": "python",
   "pygments_lexer": "ipython3",
   "version": "3.8.8"
  }
 },
 "nbformat": 4,
 "nbformat_minor": 5
}
